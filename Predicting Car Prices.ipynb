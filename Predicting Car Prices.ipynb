{
 "cells": [
  {
   "cell_type": "markdown",
   "metadata": {},
   "source": [
    "# Predicting Car Prices\n",
    "\n",
    "Buying a new car can be tricky. Often times, we are unsure if the price that we are paying for the car is reasonable. Add to this the sheer number of cars on the market, consisting of many different sizes and features, and it can be downright impossible to know if the price your dealer is offering is reasonable.\n",
    "\n",
    "To help reduce the uncertainty of this decision, we can look toward data science. If we have a list of cars and their attributes, along with price, we can use that list to train a machine learning algorithm to predict the price of a car.\n",
    "\n",
    "## Goal: \n",
    "\n",
    "My goal in this project is to build a model that can predict the price of a car, given its list of attributes.\n",
    "\n",
    "### Method:\n",
    "\n",
    "To achieve this goal, I will train a multivariate *k*-Nearest Neighbors model on [this dataset of cars](https://archive.ics.uci.edu/ml/datasets/automobile) here. The dataset is sourced from the [Machine Learning Repository](http://archive.ics.uci.edu/ml/index.php) of the Center for Machine Learning and Intelligent Systems at the University of California-Irvine."
   ]
  },
  {
   "cell_type": "markdown",
   "metadata": {},
   "source": [
    "## Table of Contents:\n",
    "\n",
    "* [Introducing the Data](#introducing)\n",
    "* [Filtering the Columns of the Dataframe](#columns)\n",
    "* [Cleaning the Data](#cleaning)\n",
    "    * [Replacing `?` values with `NaN`](#replacing)\n",
    "    * [Changing object-type columns to numeric-type](#numeric)\n",
    "    * [Dealing with `NaN` values](#nan)\n",
    "    * [Separating target and feature columns](#separating)\n",
    "* [Normalizing the Data](#normalizing)\n",
    "* [Univariate k-Nearest Neighbors Model](#univariate)\n",
    "    * [Hyperparameter Tuning: Univariate Model with varying *k*](#univariate-k)\n",
    "    * [Visualizing the RMSE Values from the Univariate Model](#visualizing)\n",
    "    * [Isolating the Top 5 Features from the Univariate Model](#top_5)\n",
    "* [Multivariate *k*-Nearest Neighbors Model](#multivariate)\n",
    "    * [Isolating the Top 3 Sets of Features from the Multivariate Model](#top_3)\n",
    "    * [Hyperparameter tuning: Multivariate Model with varying *k*](#multivariate_k)\n",
    "    * [Visualizing the RMSE Values from the Multivariate Model](#visualizing-multi)\n",
    "* [Conclusion](#conclusion)\n",
    "    * [Further Research](#further)"
   ]
  },
  {
   "cell_type": "markdown",
   "metadata": {},
   "source": [
    "## Introducing the Data <a class=\"anchor\" id=\"introducing\"></a>"
   ]
  },
  {
   "cell_type": "code",
   "execution_count": 1,
   "metadata": {},
   "outputs": [],
   "source": [
    "import pandas as pd\n",
    "import numpy as np\n",
    "\n",
    "import matplotlib.pyplot as plt\n",
    "\n",
    "from sklearn.neighbors import KNeighborsRegressor\n",
    "from sklearn.metrics import mean_squared_error"
   ]
  },
  {
   "cell_type": "code",
   "execution_count": 2,
   "metadata": {},
   "outputs": [],
   "source": [
    "# The source data does not contain a header row\n",
    "\n",
    "columns = ['symboling', 'normalized_losses', 'make', 'fuel_type', 'aspiration', 'num_of_doors', 'body_style',\n",
    "           'drive_wheels', 'engine_location', 'wheel_base', 'length', 'width', 'height', 'curb_weight', 'engine_type',\n",
    "           'num_of_cylinders', 'engine_size', 'fuel_system', 'bore', 'stroke', 'compression_ratio', 'horsepower',\n",
    "           'peak_rpm', 'city_mpg', 'highway_mpg', 'price']\n",
    "\n",
    "\n",
    "cars = pd.read_csv('imports-85.data', names=columns)"
   ]
  },
  {
   "cell_type": "code",
   "execution_count": 3,
   "metadata": {},
   "outputs": [
    {
     "data": {
      "text/plain": [
       "(205, 26)"
      ]
     },
     "execution_count": 3,
     "metadata": {},
     "output_type": "execute_result"
    }
   ],
   "source": [
    "cars.shape"
   ]
  },
  {
   "cell_type": "code",
   "execution_count": 4,
   "metadata": {},
   "outputs": [
    {
     "data": {
      "text/html": [
       "<div>\n",
       "<style scoped>\n",
       "    .dataframe tbody tr th:only-of-type {\n",
       "        vertical-align: middle;\n",
       "    }\n",
       "\n",
       "    .dataframe tbody tr th {\n",
       "        vertical-align: top;\n",
       "    }\n",
       "\n",
       "    .dataframe thead th {\n",
       "        text-align: right;\n",
       "    }\n",
       "</style>\n",
       "<table border=\"1\" class=\"dataframe\">\n",
       "  <thead>\n",
       "    <tr style=\"text-align: right;\">\n",
       "      <th></th>\n",
       "      <th>symboling</th>\n",
       "      <th>normalized_losses</th>\n",
       "      <th>make</th>\n",
       "      <th>fuel_type</th>\n",
       "      <th>aspiration</th>\n",
       "      <th>num_of_doors</th>\n",
       "      <th>body_style</th>\n",
       "      <th>drive_wheels</th>\n",
       "      <th>engine_location</th>\n",
       "      <th>wheel_base</th>\n",
       "      <th>length</th>\n",
       "      <th>width</th>\n",
       "      <th>height</th>\n",
       "      <th>curb_weight</th>\n",
       "      <th>engine_type</th>\n",
       "      <th>num_of_cylinders</th>\n",
       "      <th>engine_size</th>\n",
       "      <th>fuel_system</th>\n",
       "      <th>bore</th>\n",
       "      <th>stroke</th>\n",
       "      <th>compression_ratio</th>\n",
       "      <th>horsepower</th>\n",
       "      <th>peak_rpm</th>\n",
       "      <th>city_mpg</th>\n",
       "      <th>highway_mpg</th>\n",
       "      <th>price</th>\n",
       "    </tr>\n",
       "  </thead>\n",
       "  <tbody>\n",
       "    <tr>\n",
       "      <th>0</th>\n",
       "      <td>3</td>\n",
       "      <td>?</td>\n",
       "      <td>alfa-romero</td>\n",
       "      <td>gas</td>\n",
       "      <td>std</td>\n",
       "      <td>two</td>\n",
       "      <td>convertible</td>\n",
       "      <td>rwd</td>\n",
       "      <td>front</td>\n",
       "      <td>88.6</td>\n",
       "      <td>168.8</td>\n",
       "      <td>64.1</td>\n",
       "      <td>48.8</td>\n",
       "      <td>2548</td>\n",
       "      <td>dohc</td>\n",
       "      <td>four</td>\n",
       "      <td>130</td>\n",
       "      <td>mpfi</td>\n",
       "      <td>3.47</td>\n",
       "      <td>2.68</td>\n",
       "      <td>9.0</td>\n",
       "      <td>111</td>\n",
       "      <td>5000</td>\n",
       "      <td>21</td>\n",
       "      <td>27</td>\n",
       "      <td>13495</td>\n",
       "    </tr>\n",
       "    <tr>\n",
       "      <th>1</th>\n",
       "      <td>3</td>\n",
       "      <td>?</td>\n",
       "      <td>alfa-romero</td>\n",
       "      <td>gas</td>\n",
       "      <td>std</td>\n",
       "      <td>two</td>\n",
       "      <td>convertible</td>\n",
       "      <td>rwd</td>\n",
       "      <td>front</td>\n",
       "      <td>88.6</td>\n",
       "      <td>168.8</td>\n",
       "      <td>64.1</td>\n",
       "      <td>48.8</td>\n",
       "      <td>2548</td>\n",
       "      <td>dohc</td>\n",
       "      <td>four</td>\n",
       "      <td>130</td>\n",
       "      <td>mpfi</td>\n",
       "      <td>3.47</td>\n",
       "      <td>2.68</td>\n",
       "      <td>9.0</td>\n",
       "      <td>111</td>\n",
       "      <td>5000</td>\n",
       "      <td>21</td>\n",
       "      <td>27</td>\n",
       "      <td>16500</td>\n",
       "    </tr>\n",
       "    <tr>\n",
       "      <th>2</th>\n",
       "      <td>1</td>\n",
       "      <td>?</td>\n",
       "      <td>alfa-romero</td>\n",
       "      <td>gas</td>\n",
       "      <td>std</td>\n",
       "      <td>two</td>\n",
       "      <td>hatchback</td>\n",
       "      <td>rwd</td>\n",
       "      <td>front</td>\n",
       "      <td>94.5</td>\n",
       "      <td>171.2</td>\n",
       "      <td>65.5</td>\n",
       "      <td>52.4</td>\n",
       "      <td>2823</td>\n",
       "      <td>ohcv</td>\n",
       "      <td>six</td>\n",
       "      <td>152</td>\n",
       "      <td>mpfi</td>\n",
       "      <td>2.68</td>\n",
       "      <td>3.47</td>\n",
       "      <td>9.0</td>\n",
       "      <td>154</td>\n",
       "      <td>5000</td>\n",
       "      <td>19</td>\n",
       "      <td>26</td>\n",
       "      <td>16500</td>\n",
       "    </tr>\n",
       "    <tr>\n",
       "      <th>3</th>\n",
       "      <td>2</td>\n",
       "      <td>164</td>\n",
       "      <td>audi</td>\n",
       "      <td>gas</td>\n",
       "      <td>std</td>\n",
       "      <td>four</td>\n",
       "      <td>sedan</td>\n",
       "      <td>fwd</td>\n",
       "      <td>front</td>\n",
       "      <td>99.8</td>\n",
       "      <td>176.6</td>\n",
       "      <td>66.2</td>\n",
       "      <td>54.3</td>\n",
       "      <td>2337</td>\n",
       "      <td>ohc</td>\n",
       "      <td>four</td>\n",
       "      <td>109</td>\n",
       "      <td>mpfi</td>\n",
       "      <td>3.19</td>\n",
       "      <td>3.40</td>\n",
       "      <td>10.0</td>\n",
       "      <td>102</td>\n",
       "      <td>5500</td>\n",
       "      <td>24</td>\n",
       "      <td>30</td>\n",
       "      <td>13950</td>\n",
       "    </tr>\n",
       "    <tr>\n",
       "      <th>4</th>\n",
       "      <td>2</td>\n",
       "      <td>164</td>\n",
       "      <td>audi</td>\n",
       "      <td>gas</td>\n",
       "      <td>std</td>\n",
       "      <td>four</td>\n",
       "      <td>sedan</td>\n",
       "      <td>4wd</td>\n",
       "      <td>front</td>\n",
       "      <td>99.4</td>\n",
       "      <td>176.6</td>\n",
       "      <td>66.4</td>\n",
       "      <td>54.3</td>\n",
       "      <td>2824</td>\n",
       "      <td>ohc</td>\n",
       "      <td>five</td>\n",
       "      <td>136</td>\n",
       "      <td>mpfi</td>\n",
       "      <td>3.19</td>\n",
       "      <td>3.40</td>\n",
       "      <td>8.0</td>\n",
       "      <td>115</td>\n",
       "      <td>5500</td>\n",
       "      <td>18</td>\n",
       "      <td>22</td>\n",
       "      <td>17450</td>\n",
       "    </tr>\n",
       "  </tbody>\n",
       "</table>\n",
       "</div>"
      ],
      "text/plain": [
       "   symboling normalized_losses         make fuel_type aspiration num_of_doors  \\\n",
       "0          3                 ?  alfa-romero       gas        std          two   \n",
       "1          3                 ?  alfa-romero       gas        std          two   \n",
       "2          1                 ?  alfa-romero       gas        std          two   \n",
       "3          2               164         audi       gas        std         four   \n",
       "4          2               164         audi       gas        std         four   \n",
       "\n",
       "    body_style drive_wheels engine_location  wheel_base  length  width  \\\n",
       "0  convertible          rwd           front        88.6   168.8   64.1   \n",
       "1  convertible          rwd           front        88.6   168.8   64.1   \n",
       "2    hatchback          rwd           front        94.5   171.2   65.5   \n",
       "3        sedan          fwd           front        99.8   176.6   66.2   \n",
       "4        sedan          4wd           front        99.4   176.6   66.4   \n",
       "\n",
       "   height  curb_weight engine_type num_of_cylinders  engine_size fuel_system  \\\n",
       "0    48.8         2548        dohc             four          130        mpfi   \n",
       "1    48.8         2548        dohc             four          130        mpfi   \n",
       "2    52.4         2823        ohcv              six          152        mpfi   \n",
       "3    54.3         2337         ohc             four          109        mpfi   \n",
       "4    54.3         2824         ohc             five          136        mpfi   \n",
       "\n",
       "   bore stroke  compression_ratio horsepower peak_rpm  city_mpg  highway_mpg  \\\n",
       "0  3.47   2.68                9.0        111     5000        21           27   \n",
       "1  3.47   2.68                9.0        111     5000        21           27   \n",
       "2  2.68   3.47                9.0        154     5000        19           26   \n",
       "3  3.19   3.40               10.0        102     5500        24           30   \n",
       "4  3.19   3.40                8.0        115     5500        18           22   \n",
       "\n",
       "   price  \n",
       "0  13495  \n",
       "1  16500  \n",
       "2  16500  \n",
       "3  13950  \n",
       "4  17450  "
      ]
     },
     "execution_count": 4,
     "metadata": {},
     "output_type": "execute_result"
    }
   ],
   "source": [
    "pd.set_option('display.max_columns', 30)\n",
    "\n",
    "cars.head()"
   ]
  },
  {
   "cell_type": "code",
   "execution_count": 5,
   "metadata": {},
   "outputs": [
    {
     "data": {
      "text/html": [
       "<div>\n",
       "<style scoped>\n",
       "    .dataframe tbody tr th:only-of-type {\n",
       "        vertical-align: middle;\n",
       "    }\n",
       "\n",
       "    .dataframe tbody tr th {\n",
       "        vertical-align: top;\n",
       "    }\n",
       "\n",
       "    .dataframe thead th {\n",
       "        text-align: right;\n",
       "    }\n",
       "</style>\n",
       "<table border=\"1\" class=\"dataframe\">\n",
       "  <thead>\n",
       "    <tr style=\"text-align: right;\">\n",
       "      <th></th>\n",
       "      <th>symboling</th>\n",
       "      <th>normalized_losses</th>\n",
       "      <th>make</th>\n",
       "      <th>fuel_type</th>\n",
       "      <th>aspiration</th>\n",
       "      <th>num_of_doors</th>\n",
       "      <th>body_style</th>\n",
       "      <th>drive_wheels</th>\n",
       "      <th>engine_location</th>\n",
       "      <th>wheel_base</th>\n",
       "      <th>length</th>\n",
       "      <th>width</th>\n",
       "      <th>height</th>\n",
       "      <th>curb_weight</th>\n",
       "      <th>engine_type</th>\n",
       "      <th>num_of_cylinders</th>\n",
       "      <th>engine_size</th>\n",
       "      <th>fuel_system</th>\n",
       "      <th>bore</th>\n",
       "      <th>stroke</th>\n",
       "      <th>compression_ratio</th>\n",
       "      <th>horsepower</th>\n",
       "      <th>peak_rpm</th>\n",
       "      <th>city_mpg</th>\n",
       "      <th>highway_mpg</th>\n",
       "      <th>price</th>\n",
       "    </tr>\n",
       "  </thead>\n",
       "  <tbody>\n",
       "    <tr>\n",
       "      <th>200</th>\n",
       "      <td>-1</td>\n",
       "      <td>95</td>\n",
       "      <td>volvo</td>\n",
       "      <td>gas</td>\n",
       "      <td>std</td>\n",
       "      <td>four</td>\n",
       "      <td>sedan</td>\n",
       "      <td>rwd</td>\n",
       "      <td>front</td>\n",
       "      <td>109.1</td>\n",
       "      <td>188.8</td>\n",
       "      <td>68.9</td>\n",
       "      <td>55.5</td>\n",
       "      <td>2952</td>\n",
       "      <td>ohc</td>\n",
       "      <td>four</td>\n",
       "      <td>141</td>\n",
       "      <td>mpfi</td>\n",
       "      <td>3.78</td>\n",
       "      <td>3.15</td>\n",
       "      <td>9.5</td>\n",
       "      <td>114</td>\n",
       "      <td>5400</td>\n",
       "      <td>23</td>\n",
       "      <td>28</td>\n",
       "      <td>16845</td>\n",
       "    </tr>\n",
       "    <tr>\n",
       "      <th>201</th>\n",
       "      <td>-1</td>\n",
       "      <td>95</td>\n",
       "      <td>volvo</td>\n",
       "      <td>gas</td>\n",
       "      <td>turbo</td>\n",
       "      <td>four</td>\n",
       "      <td>sedan</td>\n",
       "      <td>rwd</td>\n",
       "      <td>front</td>\n",
       "      <td>109.1</td>\n",
       "      <td>188.8</td>\n",
       "      <td>68.8</td>\n",
       "      <td>55.5</td>\n",
       "      <td>3049</td>\n",
       "      <td>ohc</td>\n",
       "      <td>four</td>\n",
       "      <td>141</td>\n",
       "      <td>mpfi</td>\n",
       "      <td>3.78</td>\n",
       "      <td>3.15</td>\n",
       "      <td>8.7</td>\n",
       "      <td>160</td>\n",
       "      <td>5300</td>\n",
       "      <td>19</td>\n",
       "      <td>25</td>\n",
       "      <td>19045</td>\n",
       "    </tr>\n",
       "    <tr>\n",
       "      <th>202</th>\n",
       "      <td>-1</td>\n",
       "      <td>95</td>\n",
       "      <td>volvo</td>\n",
       "      <td>gas</td>\n",
       "      <td>std</td>\n",
       "      <td>four</td>\n",
       "      <td>sedan</td>\n",
       "      <td>rwd</td>\n",
       "      <td>front</td>\n",
       "      <td>109.1</td>\n",
       "      <td>188.8</td>\n",
       "      <td>68.9</td>\n",
       "      <td>55.5</td>\n",
       "      <td>3012</td>\n",
       "      <td>ohcv</td>\n",
       "      <td>six</td>\n",
       "      <td>173</td>\n",
       "      <td>mpfi</td>\n",
       "      <td>3.58</td>\n",
       "      <td>2.87</td>\n",
       "      <td>8.8</td>\n",
       "      <td>134</td>\n",
       "      <td>5500</td>\n",
       "      <td>18</td>\n",
       "      <td>23</td>\n",
       "      <td>21485</td>\n",
       "    </tr>\n",
       "    <tr>\n",
       "      <th>203</th>\n",
       "      <td>-1</td>\n",
       "      <td>95</td>\n",
       "      <td>volvo</td>\n",
       "      <td>diesel</td>\n",
       "      <td>turbo</td>\n",
       "      <td>four</td>\n",
       "      <td>sedan</td>\n",
       "      <td>rwd</td>\n",
       "      <td>front</td>\n",
       "      <td>109.1</td>\n",
       "      <td>188.8</td>\n",
       "      <td>68.9</td>\n",
       "      <td>55.5</td>\n",
       "      <td>3217</td>\n",
       "      <td>ohc</td>\n",
       "      <td>six</td>\n",
       "      <td>145</td>\n",
       "      <td>idi</td>\n",
       "      <td>3.01</td>\n",
       "      <td>3.40</td>\n",
       "      <td>23.0</td>\n",
       "      <td>106</td>\n",
       "      <td>4800</td>\n",
       "      <td>26</td>\n",
       "      <td>27</td>\n",
       "      <td>22470</td>\n",
       "    </tr>\n",
       "    <tr>\n",
       "      <th>204</th>\n",
       "      <td>-1</td>\n",
       "      <td>95</td>\n",
       "      <td>volvo</td>\n",
       "      <td>gas</td>\n",
       "      <td>turbo</td>\n",
       "      <td>four</td>\n",
       "      <td>sedan</td>\n",
       "      <td>rwd</td>\n",
       "      <td>front</td>\n",
       "      <td>109.1</td>\n",
       "      <td>188.8</td>\n",
       "      <td>68.9</td>\n",
       "      <td>55.5</td>\n",
       "      <td>3062</td>\n",
       "      <td>ohc</td>\n",
       "      <td>four</td>\n",
       "      <td>141</td>\n",
       "      <td>mpfi</td>\n",
       "      <td>3.78</td>\n",
       "      <td>3.15</td>\n",
       "      <td>9.5</td>\n",
       "      <td>114</td>\n",
       "      <td>5400</td>\n",
       "      <td>19</td>\n",
       "      <td>25</td>\n",
       "      <td>22625</td>\n",
       "    </tr>\n",
       "  </tbody>\n",
       "</table>\n",
       "</div>"
      ],
      "text/plain": [
       "     symboling normalized_losses   make fuel_type aspiration num_of_doors  \\\n",
       "200         -1                95  volvo       gas        std         four   \n",
       "201         -1                95  volvo       gas      turbo         four   \n",
       "202         -1                95  volvo       gas        std         four   \n",
       "203         -1                95  volvo    diesel      turbo         four   \n",
       "204         -1                95  volvo       gas      turbo         four   \n",
       "\n",
       "    body_style drive_wheels engine_location  wheel_base  length  width  \\\n",
       "200      sedan          rwd           front       109.1   188.8   68.9   \n",
       "201      sedan          rwd           front       109.1   188.8   68.8   \n",
       "202      sedan          rwd           front       109.1   188.8   68.9   \n",
       "203      sedan          rwd           front       109.1   188.8   68.9   \n",
       "204      sedan          rwd           front       109.1   188.8   68.9   \n",
       "\n",
       "     height  curb_weight engine_type num_of_cylinders  engine_size  \\\n",
       "200    55.5         2952         ohc             four          141   \n",
       "201    55.5         3049         ohc             four          141   \n",
       "202    55.5         3012        ohcv              six          173   \n",
       "203    55.5         3217         ohc              six          145   \n",
       "204    55.5         3062         ohc             four          141   \n",
       "\n",
       "    fuel_system  bore stroke  compression_ratio horsepower peak_rpm  city_mpg  \\\n",
       "200        mpfi  3.78   3.15                9.5        114     5400        23   \n",
       "201        mpfi  3.78   3.15                8.7        160     5300        19   \n",
       "202        mpfi  3.58   2.87                8.8        134     5500        18   \n",
       "203         idi  3.01   3.40               23.0        106     4800        26   \n",
       "204        mpfi  3.78   3.15                9.5        114     5400        19   \n",
       "\n",
       "     highway_mpg  price  \n",
       "200           28  16845  \n",
       "201           25  19045  \n",
       "202           23  21485  \n",
       "203           27  22470  \n",
       "204           25  22625  "
      ]
     },
     "execution_count": 5,
     "metadata": {},
     "output_type": "execute_result"
    }
   ],
   "source": [
    "cars.tail()"
   ]
  },
  {
   "cell_type": "code",
   "execution_count": 6,
   "metadata": {},
   "outputs": [
    {
     "name": "stdout",
     "output_type": "stream",
     "text": [
      "<class 'pandas.core.frame.DataFrame'>\n",
      "RangeIndex: 205 entries, 0 to 204\n",
      "Data columns (total 26 columns):\n",
      " #   Column             Non-Null Count  Dtype  \n",
      "---  ------             --------------  -----  \n",
      " 0   symboling          205 non-null    int64  \n",
      " 1   normalized_losses  205 non-null    object \n",
      " 2   make               205 non-null    object \n",
      " 3   fuel_type          205 non-null    object \n",
      " 4   aspiration         205 non-null    object \n",
      " 5   num_of_doors       205 non-null    object \n",
      " 6   body_style         205 non-null    object \n",
      " 7   drive_wheels       205 non-null    object \n",
      " 8   engine_location    205 non-null    object \n",
      " 9   wheel_base         205 non-null    float64\n",
      " 10  length             205 non-null    float64\n",
      " 11  width              205 non-null    float64\n",
      " 12  height             205 non-null    float64\n",
      " 13  curb_weight        205 non-null    int64  \n",
      " 14  engine_type        205 non-null    object \n",
      " 15  num_of_cylinders   205 non-null    object \n",
      " 16  engine_size        205 non-null    int64  \n",
      " 17  fuel_system        205 non-null    object \n",
      " 18  bore               205 non-null    object \n",
      " 19  stroke             205 non-null    object \n",
      " 20  compression_ratio  205 non-null    float64\n",
      " 21  horsepower         205 non-null    object \n",
      " 22  peak_rpm           205 non-null    object \n",
      " 23  city_mpg           205 non-null    int64  \n",
      " 24  highway_mpg        205 non-null    int64  \n",
      " 25  price              205 non-null    object \n",
      "dtypes: float64(5), int64(5), object(16)\n",
      "memory usage: 41.8+ KB\n"
     ]
    }
   ],
   "source": [
    "cars.info()"
   ]
  },
  {
   "cell_type": "markdown",
   "metadata": {},
   "source": [
    "Before cleaning the dataframe, I will first filter it according to which columns that I will use for the algorithm. Since the *k*-Nearest Neighbors algorithm should only accept continuous or binary data, I will go ahead and filter the dataframe to only include columns of these datatypes.\n",
    "\n",
    "The documentation for the dataset informs us as to which columns are continuous or not. I will choose not to create any binary column data in this project. "
   ]
  },
  {
   "cell_type": "markdown",
   "metadata": {},
   "source": [
    "## Filtering the Columns of the Dataframe <a class=\"anchor\" id=\"columns\"></a>"
   ]
  },
  {
   "cell_type": "code",
   "execution_count": 7,
   "metadata": {},
   "outputs": [],
   "source": [
    "# Filtering for only continuous variables\n",
    "\n",
    "continuous_columns = ['symboling', 'normalized_losses', 'wheel_base', 'length', 'width', 'height', 'curb_weight', \n",
    "                      'engine_size', 'bore', 'stroke', 'compression_ratio', 'horsepower', 'peak_rpm', 'city_mpg', \n",
    "                      'highway_mpg', 'price']\n",
    "\n",
    "cars_cont = cars[continuous_columns]"
   ]
  },
  {
   "cell_type": "markdown",
   "metadata": {},
   "source": [
    "## Cleaning the Data <a class=\"anchor\" id=\"cleaning\"></a>\n",
    "\n",
    "Now that I have filtered the columns of the dataframe, I will go ahead and clean the dataframe.\n",
    "\n",
    "The summary of the dataframe indicates that some cells contain a `?` where a null value should be. I will clean up those cells by replacing the `?` with `NaN`. \n",
    "\n",
    "Also, a few of the columns that should be numeric types are object types. I will have to change those."
   ]
  },
  {
   "cell_type": "markdown",
   "metadata": {},
   "source": [
    "### Replacing `?` values with `NaN` <a class=\"anchor\" id=\"replacing\"></a>"
   ]
  },
  {
   "cell_type": "code",
   "execution_count": 8,
   "metadata": {},
   "outputs": [],
   "source": [
    "cars_cont = cars_cont.replace('?', np.nan)"
   ]
  },
  {
   "cell_type": "markdown",
   "metadata": {},
   "source": [
    "### Changing object-type columns to numeric-type <a class=\"anchor\" id=\"numeric\"></a>"
   ]
  },
  {
   "cell_type": "code",
   "execution_count": 9,
   "metadata": {},
   "outputs": [],
   "source": [
    "cols_to_numeric = ['normalized_losses', 'bore', 'stroke', 'horsepower', 'peak_rpm', 'price']\n",
    "\n",
    "for col in cols_to_numeric:\n",
    "    \n",
    "    cars_cont[cols_to_numeric] = cars_cont[cols_to_numeric].astype(float)"
   ]
  },
  {
   "cell_type": "markdown",
   "metadata": {},
   "source": [
    "### Dealing with `NaN` values <a class=\"anchor\" id=\"nan\"></a>\n",
    "\n",
    "The *k*-Nearest Neighbors algorithm cannot accept null values. Therefore, we will have to determine which cells contain null values and what to do with them."
   ]
  },
  {
   "cell_type": "code",
   "execution_count": 10,
   "metadata": {},
   "outputs": [
    {
     "data": {
      "text/plain": [
       "symboling             0\n",
       "normalized_losses    41\n",
       "wheel_base            0\n",
       "length                0\n",
       "width                 0\n",
       "height                0\n",
       "curb_weight           0\n",
       "engine_size           0\n",
       "bore                  4\n",
       "stroke                4\n",
       "compression_ratio     0\n",
       "horsepower            2\n",
       "peak_rpm              2\n",
       "city_mpg              0\n",
       "highway_mpg           0\n",
       "price                 4\n",
       "dtype: int64"
      ]
     },
     "execution_count": 10,
     "metadata": {},
     "output_type": "execute_result"
    }
   ],
   "source": [
    "# Viewing the number of null values in each column\n",
    "\n",
    "cars_cont.isnull().sum()"
   ]
  },
  {
   "cell_type": "markdown",
   "metadata": {},
   "source": [
    "The `price` column contains $4$ null values. Since the `price` column is our target column, we will have to eliminate those rows from the dataframe."
   ]
  },
  {
   "cell_type": "code",
   "execution_count": 11,
   "metadata": {},
   "outputs": [],
   "source": [
    "# Dropping the null price rows\n",
    "\n",
    "cars_cont = cars_cont.dropna(subset=['price'])"
   ]
  },
  {
   "cell_type": "code",
   "execution_count": 12,
   "metadata": {
    "scrolled": true
   },
   "outputs": [
    {
     "data": {
      "text/plain": [
       "symboling             0\n",
       "normalized_losses    37\n",
       "wheel_base            0\n",
       "length                0\n",
       "width                 0\n",
       "height                0\n",
       "curb_weight           0\n",
       "engine_size           0\n",
       "bore                  4\n",
       "stroke                4\n",
       "compression_ratio     0\n",
       "horsepower            2\n",
       "peak_rpm              2\n",
       "city_mpg              0\n",
       "highway_mpg           0\n",
       "price                 0\n",
       "dtype: int64"
      ]
     },
     "execution_count": 12,
     "metadata": {},
     "output_type": "execute_result"
    }
   ],
   "source": [
    "# Reviewing the number of null values\n",
    "\n",
    "cars_cont.isnull().sum()"
   ]
  },
  {
   "cell_type": "markdown",
   "metadata": {},
   "source": [
    "The next column with null values that we need to work with is the `normalized_losses` column. There are $37$ null values in this column, which is a lot since we have about $200$ rows in our entire dataframe. We will have to decide how we want to deal with this column (whether to fill the cells with estimated values, fill them with known values, or remove the rows or column entirely)."
   ]
  },
  {
   "cell_type": "code",
   "execution_count": 13,
   "metadata": {},
   "outputs": [
    {
     "data": {
      "text/plain": [
       "122.0"
      ]
     },
     "execution_count": 13,
     "metadata": {},
     "output_type": "execute_result"
    }
   ],
   "source": [
    "# Viewing the mean\n",
    "\n",
    "cars_cont['normalized_losses'].mean()"
   ]
  },
  {
   "cell_type": "code",
   "execution_count": 14,
   "metadata": {},
   "outputs": [
    {
     "data": {
      "text/plain": [
       "115.0"
      ]
     },
     "execution_count": 14,
     "metadata": {},
     "output_type": "execute_result"
    }
   ],
   "source": [
    "# Viewing the median\n",
    "\n",
    "cars_cont['normalized_losses'].median()"
   ]
  },
  {
   "cell_type": "code",
   "execution_count": 15,
   "metadata": {},
   "outputs": [
    {
     "data": {
      "text/plain": [
       "161.0"
      ]
     },
     "execution_count": 15,
     "metadata": {},
     "output_type": "execute_result"
    }
   ],
   "source": [
    "# Viewing the mode\n",
    "\n",
    "cars_cont['normalized_losses'].mode()[0]"
   ]
  },
  {
   "cell_type": "code",
   "execution_count": 16,
   "metadata": {},
   "outputs": [
    {
     "data": {
      "image/png": "[encoded data removed]",
      "text/plain": [
       "<Figure size 432x288 with 1 Axes>"
      ]
     },
     "metadata": {
      "needs_background": "light"
     },
     "output_type": "display_data"
    }
   ],
   "source": [
    "# Viewing the histogram\n",
    "\n",
    "cars_cont['normalized_losses'].hist()\n",
    "\n",
    "plt.show()"
   ]
  },
  {
   "cell_type": "markdown",
   "metadata": {},
   "source": [
    "The `normalized_losses` column data is skewed to the right.\n",
    "\n",
    "The bin with the most values is roughly the $range(85, 105)$ bin. About $47$ data points fall within this range.\n",
    "\n",
    "The mean value of the column data is $122$. \n",
    "\n",
    "The median value of the column data is $115$.\n",
    "\n",
    "The mode of the column data is $161$.\n",
    "\n",
    "We cannot fill the cells with known values since we do not have known values for the data. We cannot remove all rows with empty cells here because that would eliminate nearly $20\\%$ of the rows in the dataframe. Therefore, we must decide to either eliminate the column or fill the rows with an estimated value. \n",
    "\n",
    "Filling the null-value cells with any one of the $3$ calculated aggregate values, or with a value in the most common histogram bin, would significantly alter the distribution and statistics of the data. \n",
    "\n",
    "Therefore, the best course of action is to just drop the column entirely. \n",
    "\n",
    "I will go ahead and do that now:"
   ]
  },
  {
   "cell_type": "code",
   "execution_count": 17,
   "metadata": {},
   "outputs": [],
   "source": [
    "# Dropping the `normalized_losses` column\n",
    "\n",
    "cars_cont = cars_cont.drop(columns='normalized_losses')"
   ]
  },
  {
   "cell_type": "code",
   "execution_count": 18,
   "metadata": {},
   "outputs": [
    {
     "data": {
      "text/plain": [
       "symboling            0\n",
       "wheel_base           0\n",
       "length               0\n",
       "width                0\n",
       "height               0\n",
       "curb_weight          0\n",
       "engine_size          0\n",
       "bore                 4\n",
       "stroke               4\n",
       "compression_ratio    0\n",
       "horsepower           2\n",
       "peak_rpm             2\n",
       "city_mpg             0\n",
       "highway_mpg          0\n",
       "price                0\n",
       "dtype: int64"
      ]
     },
     "execution_count": 18,
     "metadata": {},
     "output_type": "execute_result"
    }
   ],
   "source": [
    "# Reviewing the number of null values\n",
    "\n",
    "cars_cont.isnull().sum()"
   ]
  },
  {
   "cell_type": "markdown",
   "metadata": {},
   "source": [
    "Since `bore`, `stroke`, `peak_rpm`, and `horsepower` are all continuous variables, and the number of `NaN` datapoints in each column is less than $2\\%$ of the number of rows, it is reasonable to simply fill these `NaN` values with the average of their columns:"
   ]
  },
  {
   "cell_type": "code",
   "execution_count": 19,
   "metadata": {},
   "outputs": [],
   "source": [
    "# Filling the `NaN` values with the average values\n",
    "\n",
    "cars_cont = cars_cont.fillna(cars_cont.mean())"
   ]
  },
  {
   "cell_type": "code",
   "execution_count": 20,
   "metadata": {},
   "outputs": [
    {
     "data": {
      "text/plain": [
       "symboling            0\n",
       "wheel_base           0\n",
       "length               0\n",
       "width                0\n",
       "height               0\n",
       "curb_weight          0\n",
       "engine_size          0\n",
       "bore                 0\n",
       "stroke               0\n",
       "compression_ratio    0\n",
       "horsepower           0\n",
       "peak_rpm             0\n",
       "city_mpg             0\n",
       "highway_mpg          0\n",
       "price                0\n",
       "dtype: int64"
      ]
     },
     "execution_count": 20,
     "metadata": {},
     "output_type": "execute_result"
    }
   ],
   "source": [
    "# Reviewing the number of null values\n",
    "\n",
    "cars_cont.isnull().sum()"
   ]
  },
  {
   "cell_type": "markdown",
   "metadata": {},
   "source": [
    "## Normalizing the Data <a class=\"anchor\" id=\"normalizing\"></a>\n",
    "\n",
    "Now that the dataframe is cleaned, it is time to normalize the features to prepare for the *k*-Nearest Neighbors algorithm. I will make sure to normalize the feature columns while keeping the `price` column the same."
   ]
  },
  {
   "cell_type": "code",
   "execution_count": 21,
   "metadata": {},
   "outputs": [
    {
     "data": {
      "text/html": [
       "<div>\n",
       "<style scoped>\n",
       "    .dataframe tbody tr th:only-of-type {\n",
       "        vertical-align: middle;\n",
       "    }\n",
       "\n",
       "    .dataframe tbody tr th {\n",
       "        vertical-align: top;\n",
       "    }\n",
       "\n",
       "    .dataframe thead th {\n",
       "        text-align: right;\n",
       "    }\n",
       "</style>\n",
       "<table border=\"1\" class=\"dataframe\">\n",
       "  <thead>\n",
       "    <tr style=\"text-align: right;\">\n",
       "      <th></th>\n",
       "      <th>symboling</th>\n",
       "      <th>wheel_base</th>\n",
       "      <th>length</th>\n",
       "      <th>width</th>\n",
       "      <th>height</th>\n",
       "      <th>curb_weight</th>\n",
       "      <th>engine_size</th>\n",
       "      <th>bore</th>\n",
       "      <th>stroke</th>\n",
       "      <th>compression_ratio</th>\n",
       "      <th>horsepower</th>\n",
       "      <th>peak_rpm</th>\n",
       "      <th>city_mpg</th>\n",
       "      <th>highway_mpg</th>\n",
       "      <th>price</th>\n",
       "    </tr>\n",
       "  </thead>\n",
       "  <tbody>\n",
       "    <tr>\n",
       "      <th>0</th>\n",
       "      <td>1.0</td>\n",
       "      <td>0.058309</td>\n",
       "      <td>0.413433</td>\n",
       "      <td>0.324786</td>\n",
       "      <td>0.083333</td>\n",
       "      <td>0.411171</td>\n",
       "      <td>0.260377</td>\n",
       "      <td>0.664286</td>\n",
       "      <td>0.290476</td>\n",
       "      <td>0.1250</td>\n",
       "      <td>0.294393</td>\n",
       "      <td>0.346939</td>\n",
       "      <td>0.222222</td>\n",
       "      <td>0.289474</td>\n",
       "      <td>13495.0</td>\n",
       "    </tr>\n",
       "    <tr>\n",
       "      <th>1</th>\n",
       "      <td>1.0</td>\n",
       "      <td>0.058309</td>\n",
       "      <td>0.413433</td>\n",
       "      <td>0.324786</td>\n",
       "      <td>0.083333</td>\n",
       "      <td>0.411171</td>\n",
       "      <td>0.260377</td>\n",
       "      <td>0.664286</td>\n",
       "      <td>0.290476</td>\n",
       "      <td>0.1250</td>\n",
       "      <td>0.294393</td>\n",
       "      <td>0.346939</td>\n",
       "      <td>0.222222</td>\n",
       "      <td>0.289474</td>\n",
       "      <td>16500.0</td>\n",
       "    </tr>\n",
       "    <tr>\n",
       "      <th>2</th>\n",
       "      <td>0.6</td>\n",
       "      <td>0.230321</td>\n",
       "      <td>0.449254</td>\n",
       "      <td>0.444444</td>\n",
       "      <td>0.383333</td>\n",
       "      <td>0.517843</td>\n",
       "      <td>0.343396</td>\n",
       "      <td>0.100000</td>\n",
       "      <td>0.666667</td>\n",
       "      <td>0.1250</td>\n",
       "      <td>0.495327</td>\n",
       "      <td>0.346939</td>\n",
       "      <td>0.166667</td>\n",
       "      <td>0.263158</td>\n",
       "      <td>16500.0</td>\n",
       "    </tr>\n",
       "    <tr>\n",
       "      <th>3</th>\n",
       "      <td>0.8</td>\n",
       "      <td>0.384840</td>\n",
       "      <td>0.529851</td>\n",
       "      <td>0.504274</td>\n",
       "      <td>0.541667</td>\n",
       "      <td>0.329325</td>\n",
       "      <td>0.181132</td>\n",
       "      <td>0.464286</td>\n",
       "      <td>0.633333</td>\n",
       "      <td>0.1875</td>\n",
       "      <td>0.252336</td>\n",
       "      <td>0.551020</td>\n",
       "      <td>0.305556</td>\n",
       "      <td>0.368421</td>\n",
       "      <td>13950.0</td>\n",
       "    </tr>\n",
       "    <tr>\n",
       "      <th>4</th>\n",
       "      <td>0.8</td>\n",
       "      <td>0.373178</td>\n",
       "      <td>0.529851</td>\n",
       "      <td>0.521368</td>\n",
       "      <td>0.541667</td>\n",
       "      <td>0.518231</td>\n",
       "      <td>0.283019</td>\n",
       "      <td>0.464286</td>\n",
       "      <td>0.633333</td>\n",
       "      <td>0.0625</td>\n",
       "      <td>0.313084</td>\n",
       "      <td>0.551020</td>\n",
       "      <td>0.138889</td>\n",
       "      <td>0.157895</td>\n",
       "      <td>17450.0</td>\n",
       "    </tr>\n",
       "  </tbody>\n",
       "</table>\n",
       "</div>"
      ],
      "text/plain": [
       "   symboling  wheel_base    length     width    height  curb_weight  \\\n",
       "0        1.0    0.058309  0.413433  0.324786  0.083333     0.411171   \n",
       "1        1.0    0.058309  0.413433  0.324786  0.083333     0.411171   \n",
       "2        0.6    0.230321  0.449254  0.444444  0.383333     0.517843   \n",
       "3        0.8    0.384840  0.529851  0.504274  0.541667     0.329325   \n",
       "4        0.8    0.373178  0.529851  0.521368  0.541667     0.518231   \n",
       "\n",
       "   engine_size      bore    stroke  compression_ratio  horsepower  peak_rpm  \\\n",
       "0     0.260377  0.664286  0.290476             0.1250    0.294393  0.346939   \n",
       "1     0.260377  0.664286  0.290476             0.1250    0.294393  0.346939   \n",
       "2     0.343396  0.100000  0.666667             0.1250    0.495327  0.346939   \n",
       "3     0.181132  0.464286  0.633333             0.1875    0.252336  0.551020   \n",
       "4     0.283019  0.464286  0.633333             0.0625    0.313084  0.551020   \n",
       "\n",
       "   city_mpg  highway_mpg    price  \n",
       "0  0.222222     0.289474  13495.0  \n",
       "1  0.222222     0.289474  16500.0  \n",
       "2  0.166667     0.263158  16500.0  \n",
       "3  0.305556     0.368421  13950.0  \n",
       "4  0.138889     0.157895  17450.0  "
      ]
     },
     "execution_count": 21,
     "metadata": {},
     "output_type": "execute_result"
    }
   ],
   "source": [
    "# Normalizing the feature columns\n",
    "\n",
    "features = cars_cont.drop('price', axis=1)\n",
    "target = cars_cont['price']\n",
    "\n",
    "features_norm = (features - features.min()) / (features.max() - features.min())\n",
    "\n",
    "cars_norm  = pd.concat([features_norm, target], axis=1)\n",
    "\n",
    "cars_norm.reset_index(drop=True, inplace=True) # Reseting the index\n",
    "\n",
    "cars_norm.head()"
   ]
  },
  {
   "cell_type": "markdown",
   "metadata": {},
   "source": [
    "## Univariate k-Nearest Neighbors Model <a class=\"anchor\" id=\"univariate\"></a>\n",
    "\n",
    "Starting with the univariate k-Nearest Neighbors model, I will get a sense of which individual features of the dataframe may best predict car price. \n",
    "\n",
    "For the first model, I will use the default settings for the *k*-Nearest Neighbors algorithm in the `sklearn` library."
   ]
  },
  {
   "cell_type": "code",
   "execution_count": 22,
   "metadata": {},
   "outputs": [],
   "source": [
    "def knn_train_test(feature_column, target_column, dataframe):\n",
    "    \n",
    "    np.random.seed(1) # random seed, training & test sets are same for all models\n",
    "    \n",
    "    knn = KNeighborsRegressor()\n",
    "    \n",
    "    shuffled_index = np.random.permutation(len(dataframe))\n",
    "    random_df = dataframe.reindex(shuffled_index) # Dataframe is shuffled\n",
    "    \n",
    "    total_rows = len(random_df)    \n",
    "    train_rows = int(0.5*total_rows) # small dataset: 50/50 Training_set/Test_set split\n",
    "    \n",
    "    train_df = random_df[:train_rows]\n",
    "    test_df = random_df[train_rows:]\n",
    "    \n",
    "    knn.fit(train_df[[feature_column]], train_df[target_column])\n",
    "    predicted_labels = knn.predict(test_df[[feature_column]])\n",
    "    \n",
    "    mse = mean_squared_error(test_df[target_column], predicted_labels)\n",
    "    rmse = np.sqrt(mse)\n",
    "        \n",
    "    return rmse # returns RMSE"
   ]
  },
  {
   "cell_type": "code",
   "execution_count": 23,
   "metadata": {},
   "outputs": [
    {
     "data": {
      "text/plain": [
       "{'symboling': 7979.434919842381,\n",
       " 'wheel_base': 5461.553997873057,\n",
       " 'length': 5427.2009608367125,\n",
       " 'width': 4704.482589704386,\n",
       " 'height': 8144.441042663747,\n",
       " 'curb_weight': 4401.118254793124,\n",
       " 'engine_size': 3238.4628296477176,\n",
       " 'bore': 6780.627784685976,\n",
       " 'stroke': 8006.529544647101,\n",
       " 'compression_ratio': 6610.812153159129,\n",
       " 'horsepower': 4037.0377131537603,\n",
       " 'peak_rpm': 7697.4596964334805,\n",
       " 'city_mpg': 4766.422505090134,\n",
       " 'highway_mpg': 4630.026798588056}"
      ]
     },
     "execution_count": 23,
     "metadata": {},
     "output_type": "execute_result"
    }
   ],
   "source": [
    "# Calculating RMSE using each feature\n",
    "\n",
    "rmse_results = {}\n",
    "\n",
    "feature_columns = features.columns\n",
    "\n",
    "for column in feature_columns:\n",
    "    \n",
    "    col_rmse = knn_train_test(column, 'price', cars_norm)\n",
    "    \n",
    "    rmse_results[column] = col_rmse\n",
    "    \n",
    "rmse_results # Viewing each feature:RMSE"
   ]
  },
  {
   "cell_type": "markdown",
   "metadata": {},
   "source": [
    "### Hyperparameter Tuning: Univariate Model with varying *k* <a class=\"anchor\" id=\"univariate-k\"></a>\n",
    "\n",
    "While each feature possesses a different predictive capability, different values of the hyperparameter *k* also possess different predictive capabilities.\n",
    "\n",
    "I will now vary *k* for each feature a few times and save each RMSE value with its corresponding *k*-value and feature so that I can determine which features are the best univariate features over a range of *k*-values for predicting car prices."
   ]
  },
  {
   "cell_type": "code",
   "execution_count": 24,
   "metadata": {},
   "outputs": [],
   "source": [
    "def knn_train_test_k(feature_column, target_column, dataframe):  \n",
    "    \n",
    "    np.random.seed(1) # random seed, training & test sets are same for all models\n",
    "    \n",
    "    shuffled_index = np.random.permutation(len(dataframe))  \n",
    "    random_df = dataframe.loc[shuffled_index] # Dataframe is shuffled\n",
    "        \n",
    "    total_rows = len(random_df)\n",
    "    train_rows = int(0.5*total_rows) # small dataset: 50/50 Training_set/Test_set split\n",
    "    \n",
    "    train_df = random_df[:train_rows]\n",
    "    test_df = random_df[train_rows:]\n",
    "    \n",
    "    k_vals = [1,3,5,7,9] # [1,3,5,7,9] = k-values\n",
    "    \n",
    "    k_rmse_results = {}\n",
    "    \n",
    "    for k in k_vals: # Iterating over each k-value\n",
    "\n",
    "        knn = KNeighborsRegressor(n_neighbors=k) # n_neighbors = k\n",
    "        \n",
    "        knn.fit(train_df[[feature_column]], train_df[target_column])\n",
    "        predicted_labels = knn.predict(test_df[[feature_column]])\n",
    "    \n",
    "        mse = mean_squared_error(test_df[target_column], predicted_labels)\n",
    "        rmse = np.sqrt(mse)\n",
    "                \n",
    "        k_rmse_results[k] = rmse # RMSE for each k\n",
    "    \n",
    "    return k_rmse_results # returns k:RMSE dictionary"
   ]
  },
  {
   "cell_type": "code",
   "execution_count": 25,
   "metadata": {},
   "outputs": [
    {
     "data": {
      "text/plain": [
       "{1: 6025.594966720739,\n",
       " 3: 4617.305019788554,\n",
       " 5: 4630.026798588056,\n",
       " 7: 4796.061440186946,\n",
       " 9: 5278.358056953987}"
      ]
     },
     "execution_count": 25,
     "metadata": {},
     "output_type": "execute_result"
    }
   ],
   "source": [
    "# Calculating RMSE for each k-value using each feature\n",
    "\n",
    "k_rmse_results = {} # Dictionary of k:RMSE dictionaries\n",
    "\n",
    "for column in feature_columns:\n",
    "    \n",
    "    col_k_rmse_results = knn_train_test_k(column, 'price', cars_norm)\n",
    "        \n",
    "    k_rmse_results[column] = col_k_rmse_results\n",
    "        \n",
    "k_rmse_results[column] # Viewing one k:RMSE dictionary"
   ]
  },
  {
   "cell_type": "markdown",
   "metadata": {},
   "source": [
    "### Visualizing the RMSE Values from the Univariate Model <a class=\"anchor\" id=\"visualizing\"></a>\n",
    "\n",
    "This dictionary of *k*-RMSE dictionaries is a lot of information. I will now visualize all of these *k*-RMSE pairs in a line chart."
   ]
  },
  {
   "cell_type": "code",
   "execution_count": 26,
   "metadata": {},
   "outputs": [
    {
     "data": {
      "image/png": "[encoded data removed]",
      "text/plain": [
       "<Figure size 741.6x640.8 with 1 Axes>"
      ]
     },
     "metadata": {
      "needs_background": "light"
     },
     "output_type": "display_data"
    }
   ],
   "source": [
    "fig = plt.figure(figsize=(10.3,8.9))\n",
    "\n",
    "plt.style.use('ggplot')\n",
    "\n",
    "colors = ['#ff0000', '#00ff00', '#0000ff',\n",
    "          '#ffff00', '#ff00ff', '#00ffff',\n",
    "          '#444444', '#808080', '#008080',\n",
    "          '#4b0082', '#f4a460', '#8b0000', \n",
    "          '#006400', '#bdb76b']\n",
    "i = 0\n",
    "\n",
    "for column in feature_columns:\n",
    "    \n",
    "    plt.plot(list(k_rmse_results[column].keys()), \n",
    "             list(k_rmse_results[column].values()), \n",
    "             linewidth=3.5, \n",
    "             c=colors[i])\n",
    "    \n",
    "    i += 1\n",
    "    \n",
    "plt.title('RMSE vs k-value in the Univariate k-Nearest Neighbors Model', fontsize=14.5)\n",
    "    \n",
    "plt.xlabel('k value', fontsize=14)\n",
    "\n",
    "plt.ylabel('RMSE', fontsize=14)\n",
    "\n",
    "plt.xticks([1,3,5,7,9], fontsize=13)\n",
    "\n",
    "plt.yticks(fontsize=12.5)\n",
    "\n",
    "plt.legend(feature_columns, loc=(1.01,0.15), fontsize=14)\n",
    "\n",
    "plt.show()"
   ]
  },
  {
   "cell_type": "markdown",
   "metadata": {},
   "source": [
    "Some features clearly perform better than others. For instance, `engine_size` consistently performed better than every other feature in the univariate model. `horsepower` performed very well too. Still others performed decently, while another group of features performed relatively poorly.\n",
    "\n",
    "An elbow shape is visible in the graph of most features' RMSE values, denoting the minimum RMSE value and therefore the optimum *k*-value for that feature in the univariate *k*-Neareset Neighbors model.\n",
    "\n",
    "From here I can determine which features are performing well so far, and forward them to the multivariate *k*-Nearest Neighbors model."
   ]
  },
  {
   "cell_type": "markdown",
   "metadata": {},
   "source": [
    "### Isolating the Top 5 Features from the Univariate Model <a class=\"anchor\" id=\"top_5\"></a>\n",
    "\n",
    "I will arbitrarily choose to keep the top $5$ univariate features.\n",
    "\n",
    "To find the top $5$ features, I will create a sorted `feature: avg_RMSE` dictionary."
   ]
  },
  {
   "cell_type": "code",
   "execution_count": 27,
   "metadata": {},
   "outputs": [
    {
     "data": {
      "text/plain": [
       "{'engine_size': 3346.4845861055824,\n",
       " 'horsepower': 4219.377860395267,\n",
       " 'width': 4618.910559617357,\n",
       " 'curb_weight': 4730.075815236338,\n",
       " 'highway_mpg': 5069.469256447656,\n",
       " 'length': 5176.394903761173,\n",
       " 'city_mpg': 5202.40900297338,\n",
       " 'wheel_base': 5252.3924618645415,\n",
       " 'compression_ratio': 7166.0735987331045,\n",
       " 'bore': 7222.4724453254985,\n",
       " 'stroke': 8000.240466568112,\n",
       " 'peak_rpm': 8119.365233100782,\n",
       " 'height': 8163.346265875198,\n",
       " 'symboling': 8167.734209338618}"
      ]
     },
     "execution_count": 27,
     "metadata": {},
     "output_type": "execute_result"
    }
   ],
   "source": [
    "# Finding top 5 features\n",
    "\n",
    "nr_of_features = 5 # arbitrary\n",
    "\n",
    "avg_rmse_by_feature = {} # feature:avg_RMSE dictionary\n",
    "\n",
    "for feature in feature_columns: # Iterating over each feature\n",
    "    \n",
    "    k_rmse_values = []\n",
    "        \n",
    "    for k in list(k_rmse_results[feature].keys()):\n",
    "            \n",
    "        rmse = k_rmse_results[feature][k]\n",
    "        k_rmse_values.append(rmse)\n",
    "                \n",
    "    avg_rmse = np.mean(k_rmse_values) # avg RMSE\n",
    "    avg_rmse_by_feature[feature] = avg_rmse\n",
    "\n",
    "avg_rmse_by_feature_sorted = {feature: rmse for feature, rmse \n",
    "                              in sorted(avg_rmse_by_feature.items(), \n",
    "                                        key=lambda item: item[1])} # sorted feature:avg_RMSE dictionary\n",
    "\n",
    "avg_rmse_by_feature_sorted # Viewing each feature:avg_RMSE"
   ]
  },
  {
   "cell_type": "markdown",
   "metadata": {},
   "source": [
    "At this point, the easist way to find the top $5$ features is to pick the first $5$ entries in the sorted dictionary. But I want to make this code reproducible in any random state, so I will write a code that finds the top $5$ features regardless, and returns those as a list."
   ]
  },
  {
   "cell_type": "code",
   "execution_count": 28,
   "metadata": {},
   "outputs": [
    {
     "data": {
      "text/plain": [
       "['engine_size', 'horsepower', 'width', 'curb_weight', 'highway_mpg']"
      ]
     },
     "execution_count": 28,
     "metadata": {},
     "output_type": "execute_result"
    }
   ],
   "source": [
    "# Finding the top 5 features\n",
    "\n",
    "avg_rmse_list = [] # List of lists [[feature, avg_rmse], ...]\n",
    "\n",
    "for feature in avg_rmse_by_feature_sorted.keys(): # Iterating through sorted dictionary\n",
    "    \n",
    "    avg_rmse = avg_rmse_by_feature_sorted[feature] \n",
    "    avg_rmse_list.append([feature, avg_rmse]) # List of lists\n",
    "    \n",
    "avg_rmse_series = pd.Series([avg_rmse_list[i][1] for i in range(len(feature_columns))],            \n",
    "                            index=[avg_rmse_list[i][0] for i in range(len(feature_columns))],      \n",
    "                            name='avg_rmse') # Converting list of lists to series,\n",
    "                                             # Indexing series by feature names\n",
    "\n",
    "top_5_features = list(avg_rmse_series.head(nr_of_features).index) # Converting series index to list \n",
    "\n",
    "top_5_features # Viewing top 5 features"
   ]
  },
  {
   "cell_type": "markdown",
   "metadata": {},
   "source": [
    "## Multivariate *k*-Nearest Neighbors Model <a class=\"anchor\" id=\"multivariate\"></a>\n",
    "\n",
    "Now that I have the these top $5$ features, I will train a few multivariate *k*-Nearest Neighbors models with them:"
   ]
  },
  {
   "cell_type": "code",
   "execution_count": 29,
   "metadata": {},
   "outputs": [],
   "source": [
    "def knn_train_test_multi(feature_columns, target_column, dataframe):\n",
    "    \n",
    "    np.random.seed(1) # random seed, training & test sets are same for all models\n",
    "    \n",
    "    knn = KNeighborsRegressor()\n",
    "        \n",
    "    shuffled_index = np.random.permutation(len(dataframe))\n",
    "    random_df = dataframe.reindex(shuffled_index) # Dataframe is shuffled\n",
    "        \n",
    "    total_rows = len(random_df)\n",
    "    train_rows = int(0.5*total_rows) # small dataset: 50/50 Training_set/Test_set split\n",
    "    \n",
    "    train_df = random_df[:train_rows]\n",
    "    test_df = random_df[train_rows:]\n",
    "        \n",
    "    knn.fit(train_df[feature_columns], train_df[target_column]) # feature columns    \n",
    "    predicted_labels = knn.predict(test_df[feature_columns])\n",
    "        \n",
    "    mse = mean_squared_error(test_df[target_column], predicted_labels)    \n",
    "    rmse = np.sqrt(mse)\n",
    "        \n",
    "    return rmse # returns RMSE"
   ]
  },
  {
   "cell_type": "markdown",
   "metadata": {},
   "source": [
    "I will calculate the RMSE using the top $2$ features, the top $3$ features, the top $4$ features, and so on. I will save these RMSEs in a dictionary:"
   ]
  },
  {
   "cell_type": "code",
   "execution_count": 30,
   "metadata": {},
   "outputs": [
    {
     "data": {
      "text/plain": [
       "{2: 2949.8817277180374,\n",
       " 3: 3580.7376651928435,\n",
       " 4: 3487.340917327035,\n",
       " 5: 3410.2170133901805}"
      ]
     },
     "execution_count": 30,
     "metadata": {},
     "output_type": "execute_result"
    }
   ],
   "source": [
    "# Calculating RMSE with top feature sets\n",
    "\n",
    "multi_rmse = {} # feature_set:RMSE dictionary\n",
    "\n",
    "for i in range(2, nr_of_features+1):\n",
    "        \n",
    "    features = top_5_features[:i] # top 2 features, top 3 features, ...\n",
    "        \n",
    "    rmse = knn_train_test_multi(features, 'price', cars_norm)\n",
    "        \n",
    "    features_length = len(features)\n",
    "    multi_rmse[features_length] = rmse\n",
    "    \n",
    "multi_rmse # Viewing each feature_set:RMSE"
   ]
  },
  {
   "cell_type": "markdown",
   "metadata": {},
   "source": [
    "### Isolating the Top 3 Sets of Features from the Multivariate Model <a class=\"anchor\" id=\"top_3\"></a>\n",
    "\n",
    "I would now like to train a multivariate model using varying *k*-values. It is likely that at least $1$ of the top $3$ feature sets in the dictionary above will perform better than the worst performing feature set. Therefore, to make the model's computation easier, I will filter the feature sets down to just the top $3$ before running the varying *k* model.\n",
    "\n",
    "Again, I could simply just look at the dictionary above and pick the top $3$ sets, but I want to make this project reproducible in any random state. Therefore, I will write a code that will find the top $3$ feature sets:"
   ]
  },
  {
   "cell_type": "code",
   "execution_count": 31,
   "metadata": {},
   "outputs": [
    {
     "data": {
      "text/plain": [
       "[['engine_size', 'horsepower'],\n",
       " ['engine_size', 'horsepower', 'width', 'curb_weight', 'highway_mpg'],\n",
       " ['engine_size', 'horsepower', 'width', 'curb_weight']]"
      ]
     },
     "execution_count": 31,
     "metadata": {},
     "output_type": "execute_result"
    }
   ],
   "source": [
    "# Finding top 3 feature sets\n",
    "\n",
    "nr_of_feature_sets = 3 # arbitrary\n",
    "\n",
    "feature_sets_list = [] # List of lists [[feature,...]]\n",
    "\n",
    "for i in range(2,nr_of_features+1):\n",
    "        \n",
    "    features = top_5_features[:i] # top 2, top 3, ...    \n",
    "    feature_sets_list.append(features)\n",
    "    \n",
    "feature_sets_rmse_list = [] # List of lists [[feature_set_length, rmse], ...]\n",
    "\n",
    "for feature_set_length in multi_rmse.keys(): # Iterating through dictionary\n",
    "        \n",
    "    rmse = multi_rmse[feature_set_length]\n",
    "    feature_sets_rmse_list.append([feature_set_length, rmse]) # List of lists [[feature_set_length, rmse], ...]\n",
    "    \n",
    "multi_rmse_series = pd.Series([feature_sets_rmse_list[i][1] for i in range(4)],                       \n",
    "                              index=[feature_sets_rmse_list[i][0] for i in range(4)],             \n",
    "                              name='rmse') # Converting list of lists to series,\n",
    "                                           # Indexing series by feature_set_length\n",
    "\n",
    "multi_rmse_sorted = multi_rmse_series.sort_values().reset_index() # Sorted series, reset index\n",
    "                                                                  # Series is now dataframe, with\n",
    "                                                                  # `index` column = feature_set_length\n",
    "        \n",
    "top_3_feature_sets = [] # List of lists [[features,...]]\n",
    "\n",
    "for i in range(nr_of_feature_sets):\n",
    "        \n",
    "    feature_set_length = multi_rmse_sorted['index'][i] # top, second, third\n",
    "        \n",
    "    for feature_set in feature_sets_list:\n",
    "                \n",
    "        if len(feature_set) == feature_set_length:\n",
    "    \n",
    "            top_3_feature_sets.append(feature_set)\n",
    "        \n",
    "top_3_feature_sets # Viewing top 3 feature sets"
   ]
  },
  {
   "cell_type": "markdown",
   "metadata": {},
   "source": [
    "### Hyperparameter Tuning: Multivariate Model with varying *k* <a class=\"anchor\" id=\"multivariate_k\"></a>\n",
    "\n",
    "Now that I have the top $3$ feature sets selected, I can train a multivariate *k*-Nearest Neighbors model on each of them using several different *k* values."
   ]
  },
  {
   "cell_type": "code",
   "execution_count": 32,
   "metadata": {},
   "outputs": [],
   "source": [
    "def knn_train_test_multi_k(feature_columns, target_column, dataframe): \n",
    "    \n",
    "    np.random.seed(1) # random seed, training & test sets are same for all models\n",
    "\n",
    "    shuffled_index = np.random.permutation(len(dataframe))  \n",
    "    random_df = dataframe.loc[shuffled_index] # Dataframe is shuffled\n",
    "    \n",
    "    total_rows = len(random_df)  \n",
    "    train_rows = int(0.5*total_rows) # small dataset: 50/50 Training_set/Test_set split\n",
    "    \n",
    "    train_df = random_df[:train_rows]  \n",
    "    test_df = random_df[train_rows:] \n",
    "    \n",
    "    k_values = np.arange(1,26) # Using 25 different k values\n",
    "    \n",
    "    k_rmse_results = {}\n",
    "    \n",
    "    for k in k_values:\n",
    "    \n",
    "        knn = KNeighborsRegressor(n_neighbors=k) # n-neighbors = k\n",
    "        \n",
    "        knn.fit(train_df[feature_columns], train_df[target_column]) # feature columns\n",
    "        predicted_labels = knn.predict(test_df[feature_columns])\n",
    "    \n",
    "        mse = mean_squared_error(test_df[target_column], predicted_labels)\n",
    "        rmse = np.sqrt(mse)\n",
    "        \n",
    "        k_rmse_results[k] = rmse    \n",
    "    \n",
    "    return k_rmse_results # returns k:RMSE dictionary"
   ]
  },
  {
   "cell_type": "code",
   "execution_count": 33,
   "metadata": {},
   "outputs": [
    {
     "data": {
      "text/plain": [
       "{1: 2952.725686581471,\n",
       " 2: 3131.704952720018,\n",
       " 3: 3129.692821910155,\n",
       " 4: 3241.4320776448717,\n",
       " 5: 3487.340917327035,\n",
       " 6: 3637.0381471429987,\n",
       " 7: 3606.195077860286,\n",
       " 8: 3809.9307026308247,\n",
       " 9: 3875.274902378068,\n",
       " 10: 3997.1583055842293,\n",
       " 11: 4162.564050411074,\n",
       " 12: 4289.486490995821,\n",
       " 13: 4368.061602779942,\n",
       " 14: 4416.304772968801,\n",
       " 15: 4434.013914355171,\n",
       " 16: 4441.4634909198785,\n",
       " 17: 4512.996303789127,\n",
       " 18: 4523.575629742228,\n",
       " 19: 4534.834065236792,\n",
       " 20: 4620.211598150367,\n",
       " 21: 4688.356509517293,\n",
       " 22: 4731.46717779913,\n",
       " 23: 4763.535312989311,\n",
       " 24: 4751.601375872476,\n",
       " 25: 4757.099289594177}"
      ]
     },
     "execution_count": 33,
     "metadata": {},
     "output_type": "execute_result"
    }
   ],
   "source": [
    "# Calculating RMSE for each k-value (25) for each of the top 3 multivariate feature sets\n",
    "\n",
    "top_3_k_rmse_results = {} # Dictionary of dictionaries\n",
    "\n",
    "for feature_set in top_3_feature_sets:\n",
    "    \n",
    "    length = len(feature_set)\n",
    "\n",
    "    k_rmse_results = knn_train_test_multi_k(feature_set, 'price', cars_norm)\n",
    "    \n",
    "    top_3_k_rmse_results[length] = k_rmse_results\n",
    "    \n",
    "top_3_k_rmse_results[length] # Viewing one k:RMSE dictionary"
   ]
  },
  {
   "cell_type": "markdown",
   "metadata": {},
   "source": [
    "### Visualizing the RMSE Values from the Multivariate Model <a class=\"anchor\" id=\"visualizing-multi\"></a>\n",
    "\n",
    "This is a lot of data. The best way to view this and find out which model predicts car prices the best is to visualize it in a line graph:"
   ]
  },
  {
   "cell_type": "code",
   "execution_count": 34,
   "metadata": {},
   "outputs": [
    {
     "data": {
      "image/png": "[encoded data removed]",
      "text/plain": [
       "<Figure size 1008x439.2 with 1 Axes>"
      ]
     },
     "metadata": {},
     "output_type": "display_data"
    }
   ],
   "source": [
    "fig = plt.figure(figsize=(14,6.1))\n",
    "\n",
    "keys = list(top_3_k_rmse_results.keys())\n",
    "\n",
    "legends = []\n",
    "\n",
    "for i in keys:\n",
    "    \n",
    "    plt.plot(list(top_3_k_rmse_results[i].keys()), list(top_3_k_rmse_results[i].values()))\n",
    "    \n",
    "    legend_string = str(i) + ' features'\n",
    "    legends.append(legend_string)\n",
    "\n",
    "plt.title('RMSE vs k-value in the Multivariate k-Nearest Neighbors Model', fontsize=15)\n",
    "\n",
    "plt.xlabel('k value', fontsize=14)\n",
    "\n",
    "plt.ylabel('RMSE', fontsize=14)\n",
    "    \n",
    "plt.legend(legends, loc=(0.04,0.78), fontsize=12)\n",
    "\n",
    "plt.xticks(np.arange(1,26), fontsize=13)\n",
    "plt.yticks(np.arange(2500,5500,500), fontsize=13, )\n",
    "\n",
    "plt.show()"
   ]
  },
  {
   "cell_type": "markdown",
   "metadata": {},
   "source": [
    "## Conclusion <a class=\"anchor\" id=\"conclusion\"></a>\n",
    "\n",
    "The $2$-feature multivariate model, features = `[engine_size, horsepower]`, performed the best out of all of the models in this analysis.\n",
    "\n",
    "The root mean squared error for the `price` predictions, given a *k* value of $2$, was approximately $2,700$.\n",
    "\n",
    "This means that, on average, if given the engine size and the horsepower of a car , this model will predict the car's price to within an accuracy of $+/-\\$2,700$.\n",
    "\n",
    "### Further Research: <a class=\"anchor\" id=\"further\"></a>\n",
    "\n",
    "* Perform a k-fold cross-validation using the dataset. Compare the results."
   ]
  },
  {
   "cell_type": "code",
   "execution_count": null,
   "metadata": {},
   "outputs": [],
   "source": []
  }
 ],
 "metadata": {
  "kernelspec": {
   "display_name": "Python 3",
   "language": "python",
   "name": "python3"
  },
  "language_info": {
   "codemirror_mode": {
    "name": "ipython",
    "version": 3
   },
   "file_extension": ".py",
   "mimetype": "text/x-python",
   "name": "python",
   "nbconvert_exporter": "python",
   "pygments_lexer": "ipython3",
   "version": "3.8.5"
  }
 },
 "nbformat": 4,
 "nbformat_minor": 2
}
